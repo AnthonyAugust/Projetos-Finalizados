{
  "cells": [
    {
      "cell_type": "markdown",
      "metadata": {
        "id": "view-in-github",
        "colab_type": "text"
      },
      "source": [
        "<a href=\"https://colab.research.google.com/github/AnthonyAugust/Projetos-Finalizados/blob/Projetos-Finalizados/Transfer_Learning_C%C3%A3es_e_Gatos_(Antonio_Augusto).ipynb\" target=\"_parent\"><img src=\"https://colab.research.google.com/assets/colab-badge.svg\" alt=\"Open In Colab\"/></a>"
      ]
    },
    {
      "cell_type": "code",
      "source": [
        "import numpy as np\n",
        "import torch\n",
        "import torch.nn.functional as F\n",
        "import torchvision\n",
        "import matplotlib.pyplot as plt\n",
        "from time import time\n",
        "from torchvision import datasets, transforms\n",
        "from torch import nn, optim"
      ],
      "metadata": {
        "id": "amaAaVMkx3FH"
      },
      "execution_count": 26,
      "outputs": []
    },
    {
      "cell_type": "code",
      "source": [],
      "metadata": {
        "id": "6aE3EoTlye0L"
      },
      "execution_count": 26,
      "outputs": []
    },
    {
      "cell_type": "markdown",
      "source": [],
      "metadata": {
        "id": "mBufrg9VydSM"
      }
    },
    {
      "cell_type": "markdown",
      "source": [],
      "metadata": {
        "id": "nxwqTI6oydC7"
      }
    },
    {
      "cell_type": "markdown",
      "source": [
        "# Projeto de Transfer Learning em Python"
      ],
      "metadata": {
        "id": "qD95qaRWVCsm"
      }
    },
    {
      "cell_type": "code",
      "source": [
        "#Extraindo o arquivo ZIP\n",
        "import zipfile\n",
        "import os\n",
        "\n",
        "zip_path = \"/content/kagglecatsanddogs_5340.zip\"  # caminho do seu arquivo zipado\n",
        "extract_path = \"/content/kagglecatsanddogs_5340\"  # pasta destino\n",
        "\n",
        "with zipfile.ZipFile(zip_path, 'r') as zip_ref:\n",
        "    zip_ref.extractall(extract_path)\n",
        "\n",
        "print(\"Extração concluída!\")\n",
        "os.listdir(extract_path)"
      ],
      "metadata": {
        "id": "J3Vu6yhiVd_N",
        "colab": {
          "base_uri": "https://localhost:8080/"
        },
        "outputId": "493e14c0-1c0b-49bd-ee27-7640e54f5830"
      },
      "execution_count": 1,
      "outputs": [
        {
          "output_type": "stream",
          "name": "stdout",
          "text": [
            "Extração concluída!\n"
          ]
        },
        {
          "output_type": "execute_result",
          "data": {
            "text/plain": [
              "['PetImages', 'CDLA-Permissive-2.0.pdf', 'readme[1].txt']"
            ]
          },
          "metadata": {},
          "execution_count": 1
        }
      ]
    },
    {
      "cell_type": "code",
      "source": [
        "#Removendo Arquivos Corrompidos\n",
        "import os\n",
        "from PIL import Image\n",
        "\n",
        "image_dir = \"/content/kagglecatsanddogs_5340/PetImages\"\n",
        "\n",
        "num_removed = 0\n",
        "\n",
        "for folder in [\"Cat\", \"Dog\"]:\n",
        "    folder_path = os.path.join(image_dir, folder)\n",
        "    for file in os.listdir(folder_path):\n",
        "        file_path = os.path.join(folder_path, file)\n",
        "        try:\n",
        "            # Abre e verifica se a imagem é válida\n",
        "            img = Image.open(file_path)\n",
        "            img.verify()\n",
        "        except (IOError, SyntaxError):\n",
        "            os.remove(file_path)\n",
        "            num_removed += 1\n",
        "\n",
        "print(f\"Arquivos removidos: {num_removed}\")"
      ],
      "metadata": {
        "colab": {
          "base_uri": "https://localhost:8080/"
        },
        "id": "hDQEqMFTkYWc",
        "outputId": "71616480-3db7-41e2-e596-3ea9159276b2"
      },
      "execution_count": 2,
      "outputs": [
        {
          "output_type": "stream",
          "name": "stderr",
          "text": [
            "/usr/local/lib/python3.11/dist-packages/PIL/TiffImagePlugin.py:950: UserWarning: Truncated File Read\n",
            "  warnings.warn(str(msg))\n"
          ]
        },
        {
          "output_type": "stream",
          "name": "stdout",
          "text": [
            "Arquivos removidos: 4\n"
          ]
        }
      ]
    },
    {
      "cell_type": "code",
      "source": [
        "#Garantindo que o tensor flow pode ler os arquivos depois da limpeza\n",
        "import tensorflow as tf\n",
        "\n",
        "def validate_images(directory):\n",
        "    num_errors = 0\n",
        "    for folder in [\"Cat\", \"Dog\"]:\n",
        "        folder_path = os.path.join(directory, folder)\n",
        "        for file in os.listdir(folder_path):\n",
        "            file_path = os.path.join(folder_path, file)\n",
        "            try:\n",
        "                image_data = tf.io.read_file(file_path)\n",
        "                img = tf.image.decode_image(image_data)\n",
        "            except tf.errors.InvalidArgumentError:\n",
        "                print(f\"Imagem inválida detectada e removida: {file_path}\")\n",
        "                os.remove(file_path)\n",
        "                num_errors += 1\n",
        "    print(f\"Total de imagens removidas no passo TensorFlow: {num_errors}\")\n",
        "\n",
        "validate_images(image_dir)"
      ],
      "metadata": {
        "colab": {
          "base_uri": "https://localhost:8080/"
        },
        "id": "7fqQicUOn648",
        "outputId": "440b7de7-22d5-47d8-a7ff-c5bdb10c8270"
      },
      "execution_count": 3,
      "outputs": [
        {
          "output_type": "stream",
          "name": "stdout",
          "text": [
            "Imagem inválida detectada e removida: /content/kagglecatsanddogs_5340/PetImages/Cat/10404.jpg\n",
            "Imagem inválida detectada e removida: /content/kagglecatsanddogs_5340/PetImages/Cat/4351.jpg\n",
            "Imagem inválida detectada e removida: /content/kagglecatsanddogs_5340/PetImages/Dog/2494.jpg\n",
            "Imagem inválida detectada e removida: /content/kagglecatsanddogs_5340/PetImages/Dog/11912.jpg\n",
            "Imagem inválida detectada e removida: /content/kagglecatsanddogs_5340/PetImages/Dog/11233.jpg\n",
            "Imagem inválida detectada e removida: /content/kagglecatsanddogs_5340/PetImages/Dog/9500.jpg\n",
            "Imagem inválida detectada e removida: /content/kagglecatsanddogs_5340/PetImages/Dog/2317.jpg\n",
            "Total de imagens removidas no passo TensorFlow: 7\n"
          ]
        }
      ]
    },
    {
      "cell_type": "code",
      "source": [
        "#Bibliotecas\n",
        "import tensorflow as tf\n",
        "from tensorflow.keras import layers, models\n",
        "import matplotlib.pyplot as plt\n",
        "import pathlib\n",
        "import os\n",
        "from PIL import Image\n",
        "\n",
        "data_dir = pathlib.Path(\"/content/kagglecatsanddogs_5340/PetImages\")\n",
        "\n",
        "#Parâmetros\n",
        "batch_size = 32\n",
        "img_height = 160\n",
        "img_width = 160\n",
        "#Conjunto de treinos e validação\n",
        "train_ds = tf.keras.utils.image_dataset_from_directory(\n",
        "    image_dir,\n",
        "    validation_split=0.2,\n",
        "    subset=\"training\",\n",
        "    seed=123,\n",
        "    image_size=(img_height, img_width),\n",
        "    batch_size=batch_size\n",
        ")\n",
        "\n",
        "val_ds = tf.keras.utils.image_dataset_from_directory(\n",
        "    image_dir,\n",
        "    validation_split=0.2,\n",
        "    subset=\"validation\",\n",
        "    seed=123,\n",
        "    image_size=(img_height, img_width),\n",
        "    batch_size=batch_size\n",
        ")"
      ],
      "metadata": {
        "colab": {
          "base_uri": "https://localhost:8080/"
        },
        "id": "tmeiHyLXVeGl",
        "outputId": "31cf22d4-a6ca-4cb7-8328-8bd94f08f2f8"
      },
      "execution_count": 4,
      "outputs": [
        {
          "output_type": "stream",
          "name": "stdout",
          "text": [
            "Found 24991 files belonging to 2 classes.\n",
            "Using 19993 files for training.\n",
            "Found 24991 files belonging to 2 classes.\n",
            "Using 4998 files for validation.\n"
          ]
        }
      ]
    },
    {
      "cell_type": "code",
      "source": [
        "#Normalização do Modelo\n",
        "normalization_layer = layers.Rescaling(1./255)\n",
        "train_ds = train_ds.map(lambda x, y: (normalization_layer(x), y))\n",
        "val_ds = val_ds.map(lambda x, y: (normalization_layer(x), y))\n",
        "\n",
        "# Otimização de performance\n",
        "AUTOTUNE = tf.data.AUTOTUNE\n",
        "train_ds = train_ds.cache().shuffle(1000).prefetch(buffer_size=AUTOTUNE)\n",
        "val_ds = val_ds.cache().prefetch(buffer_size=AUTOTUNE)"
      ],
      "metadata": {
        "id": "g59fCPJGeAAZ"
      },
      "execution_count": 5,
      "outputs": []
    },
    {
      "cell_type": "code",
      "source": [
        "#Carregando o modelo pré-treinado(MobileNetV2)\n",
        "base_model = tf.keras.applications.MobileNetV2(input_shape=(img_height, img_width, 3),\n",
        "                                               include_top=False,\n",
        "                                               weights='imagenet')\n",
        "base_model.trainable = False  # Congelar as camadas"
      ],
      "metadata": {
        "id": "DplOlAcoVdx-"
      },
      "execution_count": 6,
      "outputs": []
    },
    {
      "cell_type": "code",
      "source": [
        "#Adicionando Camadas Finas\n",
        "global_avg_pool = layers.GlobalAveragePooling2D()(base_model.output)\n",
        "output_layer = layers.Dense(1, activation='sigmoid')(global_avg_pool)\n",
        "\n",
        "model = models.Model(inputs=base_model.input, outputs=output_layer)"
      ],
      "metadata": {
        "id": "MBJlBa64jq0E"
      },
      "execution_count": 7,
      "outputs": []
    },
    {
      "cell_type": "code",
      "source": [
        "#Compilando o modelo\n",
        "model.compile(optimizer=tf.keras.optimizers.Adam(learning_rate=0.0001),\n",
        "              loss='binary_crossentropy',\n",
        "              metrics=['accuracy'])"
      ],
      "metadata": {
        "id": "_TTizFBPjqvE"
      },
      "execution_count": 8,
      "outputs": []
    },
    {
      "cell_type": "code",
      "source": [
        "#Treinando o modelo\n",
        "history = model.fit(\n",
        "    train_ds,\n",
        "    validation_data=val_ds,\n",
        "    epochs=5\n",
        ")"
      ],
      "metadata": {
        "colab": {
          "base_uri": "https://localhost:8080/"
        },
        "id": "8xn0ihOtjqp8",
        "outputId": "b60b31fe-d0d9-444f-f377-039b1c566874"
      },
      "execution_count": 9,
      "outputs": [
        {
          "output_type": "stream",
          "name": "stdout",
          "text": [
            "Epoch 1/5\n",
            "\u001b[1m625/625\u001b[0m \u001b[32m━━━━━━━━━━━━━━━━━━━━\u001b[0m\u001b[37m\u001b[0m \u001b[1m488s\u001b[0m 732ms/step - accuracy: 0.8700 - loss: 0.3429 - val_accuracy: 0.9626 - val_loss: 0.1294\n",
            "Epoch 2/5\n",
            "\u001b[1m625/625\u001b[0m \u001b[32m━━━━━━━━━━━━━━━━━━━━\u001b[0m\u001b[37m\u001b[0m \u001b[1m492s\u001b[0m 788ms/step - accuracy: 0.9636 - loss: 0.1113 - val_accuracy: 0.9696 - val_loss: 0.0964\n",
            "Epoch 3/5\n",
            "\u001b[1m625/625\u001b[0m \u001b[32m━━━━━━━━━━━━━━━━━━━━\u001b[0m\u001b[37m\u001b[0m \u001b[1m461s\u001b[0m 723ms/step - accuracy: 0.9713 - loss: 0.0836 - val_accuracy: 0.9722 - val_loss: 0.0841\n",
            "Epoch 4/5\n",
            "\u001b[1m625/625\u001b[0m \u001b[32m━━━━━━━━━━━━━━━━━━━━\u001b[0m\u001b[37m\u001b[0m \u001b[1m447s\u001b[0m 716ms/step - accuracy: 0.9742 - loss: 0.0739 - val_accuracy: 0.9732 - val_loss: 0.0779\n",
            "Epoch 5/5\n",
            "\u001b[1m625/625\u001b[0m \u001b[32m━━━━━━━━━━━━━━━━━━━━\u001b[0m\u001b[37m\u001b[0m \u001b[1m448s\u001b[0m 716ms/step - accuracy: 0.9757 - loss: 0.0687 - val_accuracy: 0.9742 - val_loss: 0.0742\n"
          ]
        }
      ]
    },
    {
      "cell_type": "code",
      "source": [
        "#Plotando resultados\n",
        "plt.plot(history.history['accuracy'], label='Treino')\n",
        "plt.plot(history.history['val_accuracy'], label='Validação')\n",
        "plt.legend()\n",
        "plt.show()"
      ],
      "metadata": {
        "colab": {
          "base_uri": "https://localhost:8080/",
          "height": 430
        },
        "id": "2qpc6unFmFZz",
        "outputId": "14cd1aad-8be7-420a-e226-81c10e47ab75"
      },
      "execution_count": 10,
      "outputs": [
        {
          "output_type": "display_data",
          "data": {
            "text/plain": [
              "<Figure size 640x480 with 1 Axes>"
            ],
            "image/png": "[encoded data removed]"
          },
          "metadata": {}
        }
      ]
    },
    {
      "cell_type": "code",
      "source": [
        "#Salvando o modelo\n",
        "model.save(\"/content/transfer_learning_cats_dogs.h5\")"
      ],
      "metadata": {
        "colab": {
          "base_uri": "https://localhost:8080/"
        },
        "id": "awxHyN8YmFWc",
        "outputId": "c5dad002-a7b4-44b5-e38a-51e88d294776"
      },
      "execution_count": 11,
      "outputs": [
        {
          "output_type": "stream",
          "name": "stderr",
          "text": [
            "WARNING:absl:You are saving your model as an HDF5 file via `model.save()` or `keras.saving.save_model(model)`. This file format is considered legacy. We recommend using instead the native Keras format, e.g. `model.save('my_model.keras')` or `keras.saving.save_model(model, 'my_model.keras')`. \n"
          ]
        }
      ]
    },
    {
      "cell_type": "code",
      "source": [],
      "metadata": {
        "id": "V79PIhhimFSs"
      },
      "execution_count": null,
      "outputs": []
    },
    {
      "cell_type": "code",
      "source": [],
      "metadata": {
        "id": "bS85TgUcmFMM"
      },
      "execution_count": null,
      "outputs": []
    },
    {
      "cell_type": "code",
      "source": [],
      "metadata": {
        "id": "9ATwrrPRjqj9"
      },
      "execution_count": null,
      "outputs": []
    },
    {
      "cell_type": "code",
      "source": [],
      "metadata": {
        "id": "kR-sfmgMjqct"
      },
      "execution_count": null,
      "outputs": []
    }
  ],
  "metadata": {
    "colab": {
      "provenance": [],
      "toc_visible": true,
      "include_colab_link": true
    },
    "kernelspec": {
      "display_name": "Python 3",
      "name": "python3"
    }
  },
  "nbformat": 4,
  "nbformat_minor": 0
}